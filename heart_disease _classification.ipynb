{
 "cells": [
  {
   "cell_type": "code",
   "execution_count": 1,
   "id": "2ac50fc7",
   "metadata": {},
   "outputs": [
    {
     "data": {
      "text/html": [
       "<div>\n",
       "<style scoped>\n",
       "    .dataframe tbody tr th:only-of-type {\n",
       "        vertical-align: middle;\n",
       "    }\n",
       "\n",
       "    .dataframe tbody tr th {\n",
       "        vertical-align: top;\n",
       "    }\n",
       "\n",
       "    .dataframe thead th {\n",
       "        text-align: right;\n",
       "    }\n",
       "</style>\n",
       "<table border=\"1\" class=\"dataframe\">\n",
       "  <thead>\n",
       "    <tr style=\"text-align: right;\">\n",
       "      <th></th>\n",
       "      <th>age</th>\n",
       "      <th>sex</th>\n",
       "      <th>cp</th>\n",
       "      <th>trestbps</th>\n",
       "      <th>chol</th>\n",
       "      <th>fbs</th>\n",
       "      <th>restecg</th>\n",
       "      <th>thalach</th>\n",
       "      <th>exang</th>\n",
       "      <th>oldpeak</th>\n",
       "      <th>slope</th>\n",
       "      <th>ca</th>\n",
       "      <th>target</th>\n",
       "    </tr>\n",
       "  </thead>\n",
       "  <tbody>\n",
       "    <tr>\n",
       "      <th>0</th>\n",
       "      <td>63</td>\n",
       "      <td>1</td>\n",
       "      <td>1</td>\n",
       "      <td>145</td>\n",
       "      <td>233</td>\n",
       "      <td>1</td>\n",
       "      <td>2</td>\n",
       "      <td>150</td>\n",
       "      <td>0</td>\n",
       "      <td>2.3</td>\n",
       "      <td>3</td>\n",
       "      <td>0</td>\n",
       "      <td>0</td>\n",
       "    </tr>\n",
       "    <tr>\n",
       "      <th>1</th>\n",
       "      <td>67</td>\n",
       "      <td>1</td>\n",
       "      <td>4</td>\n",
       "      <td>160</td>\n",
       "      <td>286</td>\n",
       "      <td>0</td>\n",
       "      <td>2</td>\n",
       "      <td>108</td>\n",
       "      <td>1</td>\n",
       "      <td>1.5</td>\n",
       "      <td>2</td>\n",
       "      <td>3</td>\n",
       "      <td>1</td>\n",
       "    </tr>\n",
       "    <tr>\n",
       "      <th>2</th>\n",
       "      <td>67</td>\n",
       "      <td>1</td>\n",
       "      <td>4</td>\n",
       "      <td>120</td>\n",
       "      <td>229</td>\n",
       "      <td>0</td>\n",
       "      <td>2</td>\n",
       "      <td>129</td>\n",
       "      <td>1</td>\n",
       "      <td>2.6</td>\n",
       "      <td>2</td>\n",
       "      <td>2</td>\n",
       "      <td>0</td>\n",
       "    </tr>\n",
       "    <tr>\n",
       "      <th>3</th>\n",
       "      <td>37</td>\n",
       "      <td>1</td>\n",
       "      <td>3</td>\n",
       "      <td>130</td>\n",
       "      <td>250</td>\n",
       "      <td>0</td>\n",
       "      <td>0</td>\n",
       "      <td>187</td>\n",
       "      <td>0</td>\n",
       "      <td>3.5</td>\n",
       "      <td>3</td>\n",
       "      <td>0</td>\n",
       "      <td>0</td>\n",
       "    </tr>\n",
       "    <tr>\n",
       "      <th>4</th>\n",
       "      <td>41</td>\n",
       "      <td>0</td>\n",
       "      <td>2</td>\n",
       "      <td>130</td>\n",
       "      <td>204</td>\n",
       "      <td>0</td>\n",
       "      <td>2</td>\n",
       "      <td>172</td>\n",
       "      <td>0</td>\n",
       "      <td>1.4</td>\n",
       "      <td>1</td>\n",
       "      <td>0</td>\n",
       "      <td>0</td>\n",
       "    </tr>\n",
       "  </tbody>\n",
       "</table>\n",
       "</div>"
      ],
      "text/plain": [
       "   age  sex  cp  trestbps  chol  fbs  restecg  thalach  exang  oldpeak  slope  \\\n",
       "0   63    1   1       145   233    1        2      150      0      2.3      3   \n",
       "1   67    1   4       160   286    0        2      108      1      1.5      2   \n",
       "2   67    1   4       120   229    0        2      129      1      2.6      2   \n",
       "3   37    1   3       130   250    0        0      187      0      3.5      3   \n",
       "4   41    0   2       130   204    0        2      172      0      1.4      1   \n",
       "\n",
       "   ca  target  \n",
       "0   0       0  \n",
       "1   3       1  \n",
       "2   2       0  \n",
       "3   0       0  \n",
       "4   0       0  "
      ]
     },
     "execution_count": 1,
     "metadata": {},
     "output_type": "execute_result"
    }
   ],
   "source": [
    "# import libraries  and upload data \n",
    "import pandas as pd\n",
    "import csv\n",
    "df = pd.read_csv('heart.csv')\n",
    "df.head()"
   ]
  },
  {
   "cell_type": "markdown",
   "id": "9d371f9e",
   "metadata": {},
   "source": [
    "---\n",
    "The dataset\n",
    "Our dataset is provided by the Cleveland Clinic Foundation for Heart Disease. It's a CSV file with 303 rows. Each row contains information about a patient (a sample), and each column describes an attribute of the patient (a feature). We use the features to predict whether a patient has a heart disease (binary classification).\n",
    "\n",
    "The description comes from the website:\n",
    "https://keras.io/examples/structured_data/structured_data_classification_from_scratch/ \n",
    "\n",
    "---\n",
    "Table description:\n",
    "\n",
    "|Column|Description|Feature Type|\n",
    "|-|-|-|\n",
    "| Age| \tAge in years |\tNumerical|\n",
    "|Sex |\t(1 = male; 0 = female)| \tCategorical|\n",
    "|CP |\tChest pain type (0, 1, 2, 3, 4) |\tCategorical|\n",
    "|Trestbpd |\tResting blood pressure (in mm Hg on admission) |\tNumerical|\n",
    "|Chol |\tSerum cholesterol in mg/dl |\tNumerical|\n",
    "|FBS \t|fasting blood sugar in 120 mg/dl (1 = true; 0 = false) |\tCategorical|\n",
    "|RestECG |\tResting electrocardiogram results (0, 1, 2) |\tCategorical|\n",
    "|Thalach |\tMaximum heart rate achieved |\tNumerical|\n",
    "|Exang |\tExercise induced angina (1 = yes; 0 = no) |\tCategorical|\n",
    "|Oldpeak |\tST depression induced by exercise relative to rest |\tNumerical|\n",
    "|Slope |\tSlope of the peak exercise ST segment |\tNumerical|\n",
    "|CA |\tNumber of major vessels (0-3) colored by fluoroscopy |\tBoth numerical & categorical|\n",
    "|Thal |\t3 = normal; 6 = fixed defect; 7 = reversible defect |\tCategorical|\n",
    "|Target |\tDiagnosis of heart disease (1 = true; 0 = false) |\tTarget|"
   ]
  },
  {
   "cell_type": "code",
   "execution_count": 2,
   "id": "eac5c8ab",
   "metadata": {},
   "outputs": [],
   "source": [
    "# Model import Logistic Regression \n",
    "from sklearn.linear_model import LogisticRegression\n",
    "\n",
    "# Import of a prediction accuracy measure \n",
    "from sklearn.metrics import accuracy_score \n",
    "\n",
    "# Load the function that divides the file into training and test data \n",
    "from sklearn.model_selection import train_test_split\n",
    "\n",
    "# X is the variable that contains the data that will be used for prediction \n",
    "X = df.iloc[:, :-1].values\n",
    "# Y is the variable that will be tested and predicted \n",
    "y = df.iloc[:, -1].values\n",
    "\n",
    "# Division into a training set and a test set \n",
    "X_train, X_test, y_train, y_test = train_test_split(X, y, test_size = 0.2, random_state = 42)\n",
    "\n",
    "# Model building \n",
    "model = LogisticRegression(solver='lbfgs', max_iter=1000)\n",
    "\n",
    "# Model training \n",
    "model.fit(X_train , y_train)\n",
    "\n",
    "# Prediction based on the model\n",
    "y_predicted = model.predict(X_test)"
   ]
  },
  {
   "cell_type": "markdown",
   "id": "a74e9d57",
   "metadata": {},
   "source": [
    "---"
   ]
  },
  {
   "cell_type": "markdown",
   "id": "64d107c2",
   "metadata": {},
   "source": [
    "Legend:\n",
    "- TN - True Negative -> Data classified correctly \n",
    "- FP - False Positive -> In real are negative\n",
    "- FN - False Negative -> In real are positive \n",
    "- TP - True Positive -> Data classified correctly \n",
    "- N - Sample Size \n",
    "\n",
    "For the performed classification, we create a *confusion matrix*:\n",
    "- theoretical - columns\n",
    "- real - rows\n",
    "\n",
    "|real \\ theoretical|0|1|\n",
    "|-|-|-|\n",
    "|0|#TN|#FP|\n",
    "|1|#FN|#TP|"
   ]
  },
  {
   "cell_type": "code",
   "execution_count": 3,
   "id": "21a57173",
   "metadata": {},
   "outputs": [
    {
     "data": {
      "text/plain": [
       "array([[38,  7],\n",
       "       [ 6, 10]], dtype=int64)"
      ]
     },
     "execution_count": 3,
     "metadata": {},
     "output_type": "execute_result"
    }
   ],
   "source": [
    "# Import of the function responsible for generating the confusion matrix\n",
    "from sklearn.metrics import confusion_matrix\n",
    "confusion_matrix(y_predicted, y_test)"
   ]
  },
  {
   "cell_type": "code",
   "execution_count": 4,
   "id": "049b5910",
   "metadata": {},
   "outputs": [
    {
     "name": "stdout",
     "output_type": "stream",
     "text": [
      "Accuracy: 78.7 %\n"
     ]
    }
   ],
   "source": [
    "# Accuracy - (TN+TP)/N\n",
    "# Percentage of correct classifications \n",
    "accuracy = accuracy_score(y_test, y_predicted)\n",
    "accuracy = round(accuracy,3) * 100\n",
    "print('Accuracy:', accuracy,'%')"
   ]
  },
  {
   "cell_type": "code",
   "execution_count": 5,
   "id": "ed9bbd82",
   "metadata": {},
   "outputs": [
    {
     "name": "stdout",
     "output_type": "stream",
     "text": [
      "OER: 21.3 %\n"
     ]
    }
   ],
   "source": [
    "# Overall Error Rate - (FN+FP)/N\n",
    "# Percentage of misclassifications \n",
    "oer = 1 - accuracy_score(y_predicted, y_test)\n",
    "oer = round(oer,3) * 100\n",
    "print('OER:', oer, '%')"
   ]
  },
  {
   "cell_type": "code",
   "execution_count": 6,
   "id": "a89ad31f",
   "metadata": {},
   "outputs": [
    {
     "name": "stdout",
     "output_type": "stream",
     "text": [
      "Recall: 62.5 %\n"
     ]
    }
   ],
   "source": [
    "# Sensitivity, Recall – (TP/(FN+TP)\n",
    "# Percentage of correctly classified positive cases \n",
    "from sklearn.metrics import recall_score \n",
    "recall = recall_score(y_predicted, y_test)\n",
    "recall = round(recall,3) * 100\n",
    "print('Recall:', recall, '%')"
   ]
  },
  {
   "cell_type": "code",
   "execution_count": 7,
   "id": "e1a23872",
   "metadata": {},
   "outputs": [
    {
     "name": "stdout",
     "output_type": "stream",
     "text": [
      "Precision: 58.8 %\n"
     ]
    }
   ],
   "source": [
    "# Precision – TP/(FP+TP)\n",
    "# Percentage of correct classifications among all those classified as positive \n",
    "from sklearn.metrics import precision_score \n",
    "precision = precision_score(y_predicted, y_test)\n",
    "precision = round(precision,3) * 100\n",
    "print('Precision:', precision, '%')"
   ]
  },
  {
   "cell_type": "markdown",
   "id": "e458ae1a",
   "metadata": {},
   "source": [
    "---"
   ]
  },
  {
   "cell_type": "markdown",
   "id": "096aaedf",
   "metadata": {},
   "source": [
    "The Area Under Curve (AUC) can be taken as a measure of the quality of the classification. AUC values and the quality of classification: \n",
    "- AUC ∈ (0.6; 0.7⟩ - weak,\n",
    "- AUC ∈ (0.7; 0.8⟩ - acceptable,\n",
    "- AUC ∈ (0.8; 0.9⟩ - good,\n",
    "- AUC ∈ (0.9; 1⟩ - excellent. "
   ]
  },
  {
   "cell_type": "code",
   "execution_count": 8,
   "id": "628c9b6f",
   "metadata": {},
   "outputs": [
    {
     "data": {
      "image/png": "[encoded data removed]",
      "text/plain": [
       "<Figure size 432x288 with 1 Axes>"
      ]
     },
     "metadata": {
      "needs_background": "light"
     },
     "output_type": "display_data"
    }
   ],
   "source": [
    "from sklearn.metrics import plot_roc_curve \n",
    "import matplotlib.pyplot as plt\n",
    "plot_roc_curve(model, X_test, y_test)\n",
    "plt.show()\n",
    "# In our model, AUC = 0.89. It is an good result "
   ]
  },
  {
   "cell_type": "code",
   "execution_count": 10,
   "id": "c0b9375b",
   "metadata": {},
   "outputs": [
    {
     "name": "stdout",
     "output_type": "stream",
     "text": [
      "Do you want to enter patient data? [Y/N]: y\n",
      "Age in years: 60\n",
      "Sex (1 = male; 0 = female): 1\n",
      "Chest pain type (0, 1, 2, 3, 4): 4\n",
      "Resting blood pressure (in mm Hg on admission): 112\n",
      "Serum cholesterol in mg/dl: 225\n",
      "fasting blood sugar in 120 mg/dl (1 = true; 0 = false): 1\n",
      "Resting electrocardiogram results (0, 1, 2): 0\n",
      "Maximum heart rate achieved: 155\n",
      "Exercise induced angina (1 = yes; 0 = no): 1\n",
      "ST depression induced by exercise relative to rest: 1.4\n",
      "Slope of the peak exercise ST segment: 1\n",
      "Number of major vessels (0-3) colored by fluoroscopy: 2\n",
      "\n",
      "X=[60, 1, 4, 112, 225, 1, 0, 155, 1, 1.4, 1, 2], Predicted=1\n",
      "\n",
      "There is a high risk of Heart Disease \n",
      "Do you want to add the results to the database?  [Y/N]: y\n",
      "Do you want to enter patient data? [Y/N]: n\n"
     ]
    }
   ],
   "source": [
    "# Define one new data instance (One patient's data )\n",
    "#Heading:\n",
    "# age, sex, cp, trestbps, chol, fbs, restecg, thalach, exang, oldpeak, slope, ca\n",
    "# Example:\n",
    "#Xnew = [[60,1,4,117,230,1,0,160,1,1.4,1,2]]\n",
    "\n",
    "while True:\n",
    "    decision = input(\"Do you want to enter patient data? [Y/N]: \")\n",
    "    if decision not in [\"Y\", \"y\", \"yes\"]:\n",
    "        break\n",
    "    try:\n",
    "        age = int(input(\"Age in years: \"))\n",
    "        sex = int(input(\"Sex (1 = male; 0 = female): \"))\n",
    "        cp = int(input(\"Chest pain type (0, 1, 2, 3, 4): \"))\n",
    "        trestbps = int(input(\"Resting blood pressure (in mm Hg on admission): \"))\n",
    "        chol = int(input(\"Serum cholesterol in mg/dl: \"))\n",
    "        fbs = int(input(\"fasting blood sugar in 120 mg/dl (1 = true; 0 = false): \"))\n",
    "        restecg = int(input(\"Resting electrocardiogram results (0, 1, 2): \"))\n",
    "        thalach = int(input(\"Maximum heart rate achieved: \"))\n",
    "        exang = int(input(\"Exercise induced angina (1 = yes; 0 = no): \"))\n",
    "        oldpeak = float(input(\"ST depression induced by exercise relative to rest: \"))\n",
    "        slope = int(input(\"Slope of the peak exercise ST segment: \"))\n",
    "        ca = int(input(\"Number of major vessels (0-3) colored by fluoroscopy: \"))\n",
    "\n",
    "        Xnew = [[age,sex,cp,trestbps,chol,fbs,restecg,thalach,exang,oldpeak,slope,ca]]\n",
    "\n",
    "        # Make a prediction\n",
    "        ynew = model.predict(Xnew)\n",
    "        # Show the inputs and predicted outputs\n",
    "        print()\n",
    "        print(\"X=%s, Predicted=%s\" % (Xnew[0], ynew[0]))\n",
    "        print()\n",
    "        if ynew[0]:\n",
    "            print(\"There is a high risk of Heart Disease \")\n",
    "        else:\n",
    "            print(\"There is a small risk of heart disease\")\n",
    "        \n",
    "        add_decision = input(\"Do you want to add the results to the database?  [Y/N]: \")\n",
    "        if add_decision not in [\"Y\", \"y\", \"yes\"]:\n",
    "            break\n",
    "        try:\n",
    "            Xnew[0].append(ynew[0])\n",
    "            with open(r'heart.csv', 'a') as f:\n",
    "                writer = csv.writer(f)\n",
    "                writer.writerow(Xnew[0])\n",
    "        except:\n",
    "            print(\"The entry could not be added to the database \")\n",
    "    except:\n",
    "        print(\"You only need to enter numeric values \")\n",
    "        print(\"Incorrect result \")"
   ]
  },
  {
   "cell_type": "markdown",
   "id": "1064e193",
   "metadata": {},
   "source": [
    "\n"
   ]
  }
 ],
 "metadata": {
  "kernelspec": {
   "display_name": "Python 3",
   "language": "python",
   "name": "python3"
  },
  "language_info": {
   "codemirror_mode": {
    "name": "ipython",
    "version": 3
   },
   "file_extension": ".py",
   "mimetype": "text/x-python",
   "name": "python",
   "nbconvert_exporter": "python",
   "pygments_lexer": "ipython3",
   "version": "3.8.8"
  }
 },
 "nbformat": 4,
 "nbformat_minor": 5
}
